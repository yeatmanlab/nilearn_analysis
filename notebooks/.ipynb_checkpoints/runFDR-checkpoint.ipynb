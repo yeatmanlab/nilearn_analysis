{
 "cells": [
  {
   "cell_type": "markdown",
   "id": "63d772ed",
   "metadata": {},
   "source": [
    "## Get a pre-saved statistical t-map and run FDR correction"
   ]
  },
  {
   "cell_type": "code",
   "execution_count": null,
   "id": "31baa7c3",
   "metadata": {},
   "outputs": [],
   "source": [
    "# Compare and analyze seed-based connectivity maps\n",
    "# import\n",
    "from nilearn import datasets\n",
    "from nilearn import surface\n",
    "from nilearn import plotting\n",
    "from nilearn import image\n",
    "import numpy as np\n",
    "import pandas as pd\n",
    "import glob\n",
    "import os\n",
    "import nilearn\n",
    "from nilearn import signal\n",
    "from scipy import stats\n",
    "import nibabel as nib\n",
    "from os.path import exists\n",
    "import matplotlib.pyplot as plt\n",
    "%matplotlib inline\n",
    "import statsmodels.api as sm\n",
    "import statsmodels.formula.api as smf\n",
    "import statsmodels.stats as st"
   ]
  },
  {
   "cell_type": "code",
   "execution_count": null,
   "id": "9a8910ef",
   "metadata": {},
   "outputs": [],
   "source": [
    "# Load a single subject map from NSD\n",
    "# Convert tval to pval\n",
    "# Run fdr\n",
    "# Get the threshold tval for the corrected pval\n",
    "cur_dir = '/scratch/groups/jyeatman/NSD/analysis/clean_18P_scrub025_butter/'\n",
    "cur_file = cur_dir + 'subj01_T-test_VWFA1_VWFA2_20runs_lh_curv.curv'\n",
    "tmap = surface.load_surf_data(cur_file)"
   ]
  },
  {
   "cell_type": "code",
   "execution_count": null,
   "id": "53943610",
   "metadata": {},
   "outputs": [],
   "source": [
    "tmap"
   ]
  },
  {
   "cell_type": "code",
   "execution_count": null,
   "id": "84efb79d",
   "metadata": {},
   "outputs": [],
   "source": [
    "tmap.dtype.byteorder"
   ]
  },
  {
   "cell_type": "code",
   "execution_count": null,
   "id": "d9115116",
   "metadata": {},
   "outputs": [],
   "source": [
    "tmap=tmap.newbyteorder().byteswap()\n",
    "tmap"
   ]
  },
  {
   "cell_type": "code",
   "execution_count": null,
   "id": "1fefc08c",
   "metadata": {},
   "outputs": [],
   "source": [
    "sub_count = 20\n",
    "alpha = 0.01\n",
    "pmap = stats.t.sf(abs(tmap), sub_count-1)*2\n",
    "pmap.shape"
   ]
  },
  {
   "cell_type": "code",
   "execution_count": null,
   "id": "3586da22",
   "metadata": {},
   "outputs": [],
   "source": [
    "pcor = st.multitest.fdrcorrection(pmap, alpha=alpha, method='n', is_sorted=False)"
   ]
  },
  {
   "cell_type": "code",
   "execution_count": null,
   "id": "58e76279",
   "metadata": {},
   "outputs": [],
   "source": [
    "tmap.dtype.byteorder\n",
    "tmap=tmap.newbyteorder().byteswap()"
   ]
  },
  {
   "cell_type": "code",
   "execution_count": null,
   "id": "9bef5869",
   "metadata": {},
   "outputs": [],
   "source": [
    "df = pd.DataFrame({\"tval\":tmap,\"pcor\":pcor[1],\"pass\":pcor[0]})\n",
    "df.sort_values(by=\"tval\",axis=0,inplace=True)\n",
    "pass_df = df.loc[df['pass']==True,]\n",
    "pass_df"
   ]
  },
  {
   "cell_type": "code",
   "execution_count": null,
   "id": "79ebfd61",
   "metadata": {},
   "outputs": [],
   "source": [
    "#p_threshold = pass_df['tval'][pass_df['pcor']== pass_df['pcor'].max()]\n",
    "p_threshold = pass_df.query('pcor == pcor.max()')\n",
    "print(p_threshold)\n",
    "#t_threshold = stats.t.isf(p_threshold/2, sub_count-1)\n",
    "#print(t_threshold)\n",
    "#verify\n",
    "# sf-> survival function; isf -> inverse survival function\n",
    "# print(stats.t.sf(t_threshold, sub_count-1)*2)"
   ]
  },
  {
   "cell_type": "code",
   "execution_count": null,
   "id": "7ab4fac2",
   "metadata": {},
   "outputs": [],
   "source": [
    "tcor = stats.t.isf(df['pcor']/2, sub_count-1)\n",
    "tcor = tcor*np.sign(df['tval'])\n",
    "df['tcor'] = tcor\n",
    "df.head(2000)"
   ]
  }
 ],
 "metadata": {
  "kernelspec": {
   "display_name": "FC",
   "language": "python",
   "name": "fc"
  },
  "language_info": {
   "codemirror_mode": {
    "name": "ipython",
    "version": 3
   },
   "file_extension": ".py",
   "mimetype": "text/x-python",
   "name": "python",
   "nbconvert_exporter": "python",
   "pygments_lexer": "ipython3",
   "version": "3.9.12"
  }
 },
 "nbformat": 4,
 "nbformat_minor": 5
}
