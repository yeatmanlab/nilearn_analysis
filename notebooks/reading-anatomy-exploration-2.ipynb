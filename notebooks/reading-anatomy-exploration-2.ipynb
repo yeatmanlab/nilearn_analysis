{
 "cells": [
  {
   "cell_type": "markdown",
   "metadata": {},
   "source": [
    "# Data Exploration: word reading score and brain anatomy\n",
    "\n",
    "Using various vertex-wise GLM's to:  \n",
    "- identify candidate areas of interest\n",
    "- roughly estimate effect size / significance of relations / interactions\n",
    "\n",
    "Download the data (Stanford Sherlock account with appropriate access required):  \n",
    "- in the command line, navigate to the local directory where you are running this notebook\n",
    "- execute the following command: ```scp -r {username}@login.sherlock.stanford.edu:/scratch/groups/jyeatman/samjohns-projects/reading-anatomy-exploration/data .```\n",
    "- this will download both the original data as well as filtered versions ready for immediate analysis, which are saved in .pkl (\"pickle\") files\n",
    "- WARNING: in case there is a preexisting subdirectory ./data, this command could overwrite it. Thus it is advised to run this notebook from within its own dedicated direcotry."
   ]
  },
  {
   "cell_type": "code",
   "execution_count": 1,
   "metadata": {
    "scrolled": false
   },
   "outputs": [
    {
     "name": "stderr",
     "output_type": "stream",
     "text": [
      "/home/groups/jyeatman/software/anaconda3/lib/python3.8/site-packages/nilearn/datasets/__init__.py:93: FutureWarning: Fetchers from the nilearn.datasets module will be updated in version 0.9 to return python strings instead of bytes and Pandas dataframes instead of Numpy arrays.\n",
      "  warn(\"Fetchers from the nilearn.datasets module will be \"\n"
     ]
    }
   ],
   "source": [
    "from nilearn import datasets\n",
    "from nilearn import surface\n",
    "from nilearn import plotting\n",
    "\n",
    "import math\n",
    "import numpy as np\n",
    "from scipy import stats\n",
    "import nibabel as nib\n",
    "import pandas as pd\n",
    "\n",
    "# from sklearn.linear_model import LinearRegression # removed in favor of statsmodels, below\n",
    "import statsmodels.api as sm\n",
    "import statsmodels.formula.api as smf\n",
    "\n",
    "import os\n",
    "import pickle"
   ]
  },
  {
   "cell_type": "markdown",
   "metadata": {},
   "source": [
    "## 0. Data preparation: skip this section to directly load an already-processed dataframe\n",
    "\n",
    "(This section is kept as a record of preprocessing steps.)"
   ]
  },
  {
   "cell_type": "code",
   "execution_count": 2,
   "metadata": {},
   "outputs": [
    {
     "name": "stdout",
     "output_type": "stream",
     "text": [
      "\n",
      "Dataset created in /home/users/samjohns/nilearn_data/fsaverage\n",
      "\n",
      "Downloading data from https://osf.io/q7a5k/download ...\n"
     ]
    },
    {
     "name": "stderr",
     "output_type": "stream",
     "text": [
      "Downloaded 23953408 of 28905506 bytes (82.9%,    0.4s remaining) ...done. (5 seconds, 0 min)\n",
      "Extracting data from /home/users/samjohns/nilearn_data/fsaverage/5592d63c5c8039b4f902396c128dcd85/download..... done.\n"
     ]
    }
   ],
   "source": [
    "# preparing data\n",
    "\n",
    "datapath = './data/'\n",
    "# Load fsaverage\n",
    "fsaverage = datasets.fetch_surf_fsaverage('fsaverage')\n",
    "\n",
    "# Load cortical anatomy data\n",
    "ct = surface.load_surf_data(datapath + 'lh.thickness.DyslexiaControlContrast.10.mgz')\n",
    "cv = surface.load_surf_data(datapath + 'lh.curv.DyslexiaControlContrast.10.mgz')\n",
    "sl = surface.load_surf_data(datapath + 'lh.sulc.DyslexiaControlContrast.10.mgz')\n",
    "\n",
    "# Load csv (of WIAT scores)\n",
    "read = pd.read_csv(datapath + 'wiat_reading.csv', header=None)\n",
    "read_col = np.array(read[1])\n",
    "read_float = np.array([np.nan if r == ' ' else float(r) for r in read_col])\n",
    "\n",
    "# Load csv (of ages)\n",
    "age = pd.read_csv(datapath + 'hbn_ages_blanks.csv', header=None)\n",
    "age_col = np.array(read[1])\n",
    "age_float = np.array([np.nan if r == ' ' else float(r) for r in read_col])"
   ]
  },
  {
   "cell_type": "code",
   "execution_count": 4,
   "metadata": {},
   "outputs": [
    {
     "data": {
      "text/plain": [
       "(163842, 1659)"
      ]
     },
     "execution_count": 4,
     "metadata": {},
     "output_type": "execute_result"
    }
   ],
   "source": [
    "ct.shape"
   ]
  },
  {
   "cell_type": "code",
   "execution_count": 5,
   "metadata": {},
   "outputs": [
    {
     "data": {
      "text/plain": [
       "((163842, 1412), (163842, 1412), (163842, 1412), (1412,), (1412,))"
      ]
     },
     "execution_count": 5,
     "metadata": {},
     "output_type": "execute_result"
    }
   ],
   "source": [
    "# merge age and reading scores into one matrix X of inputs\n",
    "\n",
    "age.columns = ['EID', 'Age']\n",
    "read.columns = ['EID', 'Read']\n",
    "\n",
    "pheno_unfiltered = pd.merge(read, age, on='EID')\n",
    "pheno_nonblanks = pheno_unfiltered[(pheno_unfiltered.Read != ' ') & (pheno_unfiltered.Age != ' ')]\n",
    "nonblank_inds = list(pheno_nonblanks.EID.index.values)\n",
    "\n",
    "# cast to float for use in models\n",
    "readf = np.array([float(x) for x in pheno_nonblanks['Read'].values])\n",
    "agef = np.array([float(x) for x in pheno_nonblanks['Age'].values])\n",
    "\n",
    "# remove corresponding anatomical data\n",
    "ctf = ct[:, nonblank_inds]\n",
    "cvf = cv[:, nonblank_inds]\n",
    "slf = sl[:, nonblank_inds]\n",
    "\n",
    "# check shapes are compatible\n",
    "ctf.shape, cvf.shape, slf.shape, readf.shape, agef.shape"
   ]
  },
  {
   "cell_type": "code",
   "execution_count": 6,
   "metadata": {},
   "outputs": [
    {
     "data": {
      "text/html": [
       "<div>\n",
       "<style scoped>\n",
       "    .dataframe tbody tr th:only-of-type {\n",
       "        vertical-align: middle;\n",
       "    }\n",
       "\n",
       "    .dataframe tbody tr th {\n",
       "        vertical-align: top;\n",
       "    }\n",
       "\n",
       "    .dataframe thead th {\n",
       "        text-align: right;\n",
       "    }\n",
       "</style>\n",
       "<table border=\"1\" class=\"dataframe\">\n",
       "  <thead>\n",
       "    <tr style=\"text-align: right;\">\n",
       "      <th></th>\n",
       "      <th>Thickness</th>\n",
       "      <th>Curvature</th>\n",
       "      <th>SulcalDepth</th>\n",
       "      <th>Age</th>\n",
       "      <th>ReadingWIATScore</th>\n",
       "    </tr>\n",
       "  </thead>\n",
       "  <tbody>\n",
       "    <tr>\n",
       "      <th>0</th>\n",
       "      <td>2.886009</td>\n",
       "      <td>-0.110603</td>\n",
       "      <td>-6.476887</td>\n",
       "      <td>7.0</td>\n",
       "      <td>146.0</td>\n",
       "    </tr>\n",
       "    <tr>\n",
       "      <th>1</th>\n",
       "      <td>2.905436</td>\n",
       "      <td>-0.130158</td>\n",
       "      <td>-4.872353</td>\n",
       "      <td>12.0</td>\n",
       "      <td>123.0</td>\n",
       "    </tr>\n",
       "    <tr>\n",
       "      <th>2</th>\n",
       "      <td>3.085148</td>\n",
       "      <td>-0.130295</td>\n",
       "      <td>-5.295219</td>\n",
       "      <td>8.0</td>\n",
       "      <td>96.0</td>\n",
       "    </tr>\n",
       "    <tr>\n",
       "      <th>3</th>\n",
       "      <td>2.965068</td>\n",
       "      <td>-0.135768</td>\n",
       "      <td>-5.802252</td>\n",
       "      <td>11.0</td>\n",
       "      <td>98.0</td>\n",
       "    </tr>\n",
       "    <tr>\n",
       "      <th>4</th>\n",
       "      <td>2.714352</td>\n",
       "      <td>-0.095571</td>\n",
       "      <td>-5.329716</td>\n",
       "      <td>6.0</td>\n",
       "      <td>123.0</td>\n",
       "    </tr>\n",
       "    <tr>\n",
       "      <th>...</th>\n",
       "      <td>...</td>\n",
       "      <td>...</td>\n",
       "      <td>...</td>\n",
       "      <td>...</td>\n",
       "      <td>...</td>\n",
       "    </tr>\n",
       "    <tr>\n",
       "      <th>1407</th>\n",
       "      <td>2.740551</td>\n",
       "      <td>-0.123050</td>\n",
       "      <td>-4.284818</td>\n",
       "      <td>8.0</td>\n",
       "      <td>73.0</td>\n",
       "    </tr>\n",
       "    <tr>\n",
       "      <th>1408</th>\n",
       "      <td>3.203292</td>\n",
       "      <td>-0.173358</td>\n",
       "      <td>-6.496359</td>\n",
       "      <td>11.0</td>\n",
       "      <td>96.0</td>\n",
       "    </tr>\n",
       "    <tr>\n",
       "      <th>1409</th>\n",
       "      <td>3.010693</td>\n",
       "      <td>-0.127864</td>\n",
       "      <td>-5.774803</td>\n",
       "      <td>8.0</td>\n",
       "      <td>67.0</td>\n",
       "    </tr>\n",
       "    <tr>\n",
       "      <th>1410</th>\n",
       "      <td>2.725559</td>\n",
       "      <td>-0.111646</td>\n",
       "      <td>-5.209313</td>\n",
       "      <td>21.0</td>\n",
       "      <td>46.0</td>\n",
       "    </tr>\n",
       "    <tr>\n",
       "      <th>1411</th>\n",
       "      <td>3.106992</td>\n",
       "      <td>-0.128839</td>\n",
       "      <td>-3.722624</td>\n",
       "      <td>11.0</td>\n",
       "      <td>91.0</td>\n",
       "    </tr>\n",
       "  </tbody>\n",
       "</table>\n",
       "<p>1412 rows × 5 columns</p>\n",
       "</div>"
      ],
      "text/plain": [
       "      Thickness  Curvature  SulcalDepth   Age  ReadingWIATScore\n",
       "0      2.886009  -0.110603    -6.476887   7.0             146.0\n",
       "1      2.905436  -0.130158    -4.872353  12.0             123.0\n",
       "2      3.085148  -0.130295    -5.295219   8.0              96.0\n",
       "3      2.965068  -0.135768    -5.802252  11.0              98.0\n",
       "4      2.714352  -0.095571    -5.329716   6.0             123.0\n",
       "...         ...        ...          ...   ...               ...\n",
       "1407   2.740551  -0.123050    -4.284818   8.0              73.0\n",
       "1408   3.203292  -0.173358    -6.496359  11.0              96.0\n",
       "1409   3.010693  -0.127864    -5.774803   8.0              67.0\n",
       "1410   2.725559  -0.111646    -5.209313  21.0              46.0\n",
       "1411   3.106992  -0.128839    -3.722624  11.0              91.0\n",
       "\n",
       "[1412 rows x 5 columns]"
      ]
     },
     "execution_count": 6,
     "metadata": {},
     "output_type": "execute_result"
    }
   ],
   "source": [
    "# assemble into one dataframe per vertex\n",
    "# test on one vertex (v=0)\n",
    "pre_df = np.stack([ctf[0], cvf[0], slf[0], agef, readf], axis=1)\n",
    "df = pd.DataFrame(data=pre_df, columns=['Thickness', 'Curvature', 'SulcalDepth', 'Age', 'ReadingWIATScore'])\n",
    "df"
   ]
  },
  {
   "cell_type": "code",
   "execution_count": 7,
   "metadata": {},
   "outputs": [],
   "source": [
    "# pickle data to reuse later\n",
    "\n",
    "objs = [ctf, cvf, slf, readf, agef, nonblank_inds]\n",
    "names = ['ctf', 'cvf', 'slf', 'readf', 'agef', 'nonblank_inds']\n",
    "\n",
    "for obj, name in zip(objs, names):    \n",
    "    with open(f'data/{name}.pkl', 'wb') as f:\n",
    "        pickle.dump(obj, f)"
   ]
  },
  {
   "cell_type": "markdown",
   "metadata": {},
   "source": [
    "## 1. GLM analysis:\n",
    "\n",
    "p-values and $R^2$ values for each vertex"
   ]
  },
  {
   "cell_type": "code",
   "execution_count": 8,
   "metadata": {},
   "outputs": [
    {
     "data": {
      "text/plain": [
       "((163842, 1412), (163842, 1412), (163842, 1412))"
      ]
     },
     "execution_count": 8,
     "metadata": {},
     "output_type": "execute_result"
    }
   ],
   "source": [
    "# if desired, load data directly from .pkl files\n",
    "\n",
    "with open('data/ctf.pkl', 'rb') as f:\n",
    "    ctf = pickle.load(f)\n",
    "\n",
    "with open('data/cvf.pkl', 'rb') as f:\n",
    "    cvf = pickle.load(f)\n",
    "\n",
    "with open('data/slf.pkl', 'rb') as f:\n",
    "    slf = pickle.load(f)\n",
    "\n",
    "with open('data/readf.pkl', 'rb') as f:\n",
    "    readf = pickle.load(f)\n",
    "\n",
    "with open('data/agef.pkl', 'rb') as f:\n",
    "    agef = pickle.load(f)\n",
    "\n",
    "with open('data/nonblank_inds.pkl', 'rb') as f:\n",
    "    nonblank_inds = pickle.load(f)\n",
    "        \n",
    "# check shapes are compatible (and expected number, e.g. N=1,412 in original analysis)\n",
    "ctf.shape, cvf.shape, slf.shape"
   ]
  },
  {
   "cell_type": "code",
   "execution_count": 9,
   "metadata": {},
   "outputs": [
    {
     "data": {
      "text/plain": [
       "((1412,), (1412,))"
      ]
     },
     "execution_count": 9,
     "metadata": {},
     "output_type": "execute_result"
    }
   ],
   "source": [
    "readf.shape, agef.shape"
   ]
  },
  {
   "cell_type": "code",
   "execution_count": 10,
   "metadata": {},
   "outputs": [
    {
     "name": "stdout",
     "output_type": "stream",
     "text": [
      "                            OLS Regression Results                            \n",
      "==============================================================================\n",
      "Dep. Variable:       ReadingWIATScore   R-squared:                       0.006\n",
      "Model:                            OLS   Adj. R-squared:                  0.004\n",
      "Method:                 Least Squares   F-statistic:                     2.749\n",
      "Date:                Tue, 28 Dec 2021   Prob (F-statistic):             0.0415\n",
      "Time:                        14:51:33   Log-Likelihood:                -5899.5\n",
      "No. Observations:                1412   AIC:                         1.181e+04\n",
      "Df Residuals:                    1408   BIC:                         1.183e+04\n",
      "Df Model:                           3                                         \n",
      "Covariance Type:            nonrobust                                         \n",
      "======================================================================================\n",
      "                         coef    std err          t      P>|t|      [0.025      0.975]\n",
      "--------------------------------------------------------------------------------------\n",
      "Intercept            102.4254     11.245      9.108      0.000      80.366     124.485\n",
      "Age                   -0.5304      0.984     -0.539      0.590      -2.461       1.400\n",
      "Thickness              1.6311      3.873      0.421      0.674      -5.967       9.229\n",
      "I(Age * Thickness)     0.1183      0.334      0.354      0.724      -0.538       0.774\n",
      "==============================================================================\n",
      "Omnibus:                       62.985   Durbin-Watson:                   1.018\n",
      "Prob(Omnibus):                  0.000   Jarque-Bera (JB):               71.078\n",
      "Skew:                          -0.515   Prob(JB):                     3.68e-16\n",
      "Kurtosis:                       3.384   Cond. No.                     1.03e+03\n",
      "==============================================================================\n",
      "\n",
      "Notes:\n",
      "[1] Standard Errors assume that the covariance matrix of the errors is correctly specified.\n",
      "[2] The condition number is large, 1.03e+03. This might indicate that there are\n",
      "strong multicollinearity or other numerical problems.\n"
     ]
    }
   ],
   "source": [
    "# now do vertex-wise regressions: test on vertex 0\n",
    "# this displays the summary statistics that will be available at each vertex's regression\n",
    "V = ctf.shape[0]\n",
    "for v in range(1):\n",
    "    pre_df = np.stack([ctf[v], cvf[v], slf[v], agef, readf], axis=1)\n",
    "    df = pd.DataFrame(data=pre_df, columns=['Thickness', 'Curvature', 'SulcalDepth', 'Age', 'ReadingWIATScore'])\n",
    "    result_linear = smf.ols('ReadingWIATScore ~ Age + Thickness + I(Age*Thickness)', data=df).fit()\n",
    "    print(result_linear.summary())"
   ]
  },
  {
   "cell_type": "code",
   "execution_count": 63,
   "metadata": {},
   "outputs": [],
   "source": [
    "glm_coeffs = list(result_linear.pvalues.index)"
   ]
  },
  {
   "cell_type": "code",
   "execution_count": 68,
   "metadata": {},
   "outputs": [],
   "source": [
    "pvals = []\n",
    "r2s = []\n",
    "column_names = ['Thickness', 'Curvature', 'SulcalDepth', 'Age', 'ReadingWIATScore']\n",
    "glm_formula = 'ReadingWIATScore ~ Age + Thickness + I(Age*Thickness)'\n",
    "\n",
    "record_all_results = False\n",
    "\n",
    "# recording all summary statistics for each vertex takes longer and consumes more memory\n",
    "if record_all_results:\n",
    "    glm_results = []\n",
    "\n",
    "for v in range(V):\n",
    "    # create one dataframe per vertex\n",
    "    pre_df = np.stack([ctf[v], cvf[v], slf[v], agef, readf], axis=1)\n",
    "    df = pd.DataFrame(data=pre_df, columns=['Thickness', 'Curvature', 'SulcalDepth', 'Age', 'ReadingWIATScore'])\n",
    "    \n",
    "    # run a linear regression with the 'glm_formula' on this dataframe\n",
    "    result_linear = smf.ols(glm_formula, data=df).fit()\n",
    "    \n",
    "    # record results of interest\n",
    "    pvals.append(result_linear.pvalues.values[:])\n",
    "    r2s.append(result_linear.rsquared)\n",
    "    \n",
    "    if record_all_results:\n",
    "        glm_results.append(result_linear)"
   ]
  },
  {
   "cell_type": "code",
   "execution_count": 44,
   "metadata": {},
   "outputs": [
    {
     "data": {
      "text/plain": [
       "(163842, 163842)"
      ]
     },
     "execution_count": 44,
     "metadata": {},
     "output_type": "execute_result"
    }
   ],
   "source": [
    "# check results are populated with correct number of vertices\n",
    "len(pvals), len(r2s)"
   ]
  },
  {
   "cell_type": "code",
   "execution_count": 49,
   "metadata": {},
   "outputs": [
    {
     "name": "stderr",
     "output_type": "stream",
     "text": [
      "<ipython-input-49-6fd9407afb90>:3: RuntimeWarning: divide by zero encountered in log10\n",
      "  logpvals = np.log10(pval_arr)\n"
     ]
    }
   ],
   "source": [
    "r2s_arr = np.array(r2s)\n",
    "pval_arr = np.array(pvals)\n",
    "logpvals = np.log10(pval_arr)"
   ]
  },
  {
   "cell_type": "code",
   "execution_count": 72,
   "metadata": {
    "scrolled": true
   },
   "outputs": [
    {
     "data": {
      "image/png": "[encoded data removed]",
      "text/plain": [
       "<Figure size 338.4x288 with 2 Axes>"
      ]
     },
     "execution_count": 72,
     "metadata": {},
     "output_type": "execute_result"
    },
    {
     "data": {
      "image/png": "[encoded data removed]",
      "text/plain": [
       "<Figure size 338.4x288 with 2 Axes>"
      ]
     },
     "metadata": {
      "needs_background": "light"
     },
     "output_type": "display_data"
    }
   ],
   "source": [
    "# Now plot the p-values for each vertex's regression\n",
    "coeff = 'Thickness'\n",
    "ind_thickness = glm_coeffs.index(coeff)\n",
    "title = r'$-log_{10}(p)$' + ' values for GLM:\\nReading-' + coeff + 'Slope'+r'$\\neq 0$'\n",
    "\n",
    "plotting.plot_surf_stat_map(fsaverage['white_left'], stat_map=-logpvals[:, ind_thickness],\n",
    "    hemi='left', threshold=1., vmax=5., view='posterior', colorbar=True, legend='negative log p(vertex)',\n",
    "    bg_map=fsaverage['curv_left'], title=title)"
   ]
  }
 ],
 "metadata": {
  "kernelspec": {
   "display_name": "Python 3",
   "language": "python",
   "name": "python3"
  },
  "language_info": {
   "codemirror_mode": {
    "name": "ipython",
    "version": 3
   },
   "file_extension": ".py",
   "mimetype": "text/x-python",
   "name": "python",
   "nbconvert_exporter": "python",
   "pygments_lexer": "ipython3",
   "version": "3.8.8"
  }
 },
 "nbformat": 4,
 "nbformat_minor": 2
}
