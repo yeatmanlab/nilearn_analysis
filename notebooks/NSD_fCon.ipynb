{
 "cells": [
  {
   "cell_type": "code",
   "execution_count": 4,
   "metadata": {},
   "outputs": [],
   "source": [
    "# Import nilearn and numpy\n",
    "from nilearn import datasets\n",
    "from nilearn import surface\n",
    "from nilearn import plotting\n",
    "from nilearn import image\n",
    "import numpy as np\n",
    "import pandas as pd\n",
    "import glob\n",
    "from nilearn import signal\n",
    "from scipy import stats\n",
    "import nibabel as nib\n",
    "sk = 3\n",
    "%matplotlib inline"
   ]
  },
  {
   "cell_type": "code",
   "execution_count": 5,
   "metadata": {},
   "outputs": [],
   "source": [
    "# List of bold runs\n",
    "basedir ='/scratch/groups/jyeatman/NSD/ppdata/'\n",
    "fsdir = '/scratch/groups/jyeatman/NSD/nsddata/freesurfer/'\n",
    "subs = ['subj01']\n",
    "runs = ['/func1pt8mm/timeseries/timeseries_session21_run01.nii.gz', '/func1pt8mm/timeseries/timeseries_session21_run14.nii.gz']"
   ]
  },
  {
   "cell_type": "code",
   "execution_count": 7,
   "metadata": {},
   "outputs": [],
   "source": [
    "for sub in subs:\n",
    "    fssub = fsdir + sub\n",
    "    lhsurf = surface.load_surf_mesh(fssub + '/surf/lh.white')\n",
    "    vwfa = surface.load_surf_data(fssub + '/label/lh.floc-words.mgz')\n",
    "    curv = surface.load_surf_data(fssub + '/surf/lh.curv')\n",
    "    vwfa1zmap = np.zeros([lhsurf.coordinates.shape[0], len(runs)])\n",
    "    vwfa2zmap = np.zeros([lhsurf.coordinates.shape[0], len(runs)])\n",
    "    r = -1\n",
    "    for run in runs:\n",
    "        r = r+1\n",
    "        boldpath = basedir + sub + run\n",
    "        bold = image.load_img(boldpath)\n",
    "        bold = image.smooth_img(bold, sk)\n",
    "        lhbold = surface.vol_to_surf(img=bold,surf_mesh=lhsurf, radius = 3)\n",
    "        lhbold = np.transpose(signal.clean(signals = np.transpose(lhbold), filter='cosine',high_pass=0.01, detrend=True, standardize='zscore',t_r=1.333))\n",
    "        vwfa1seed = np.nanmean(lhbold[vwfa==2],axis=0)\n",
    "        vwfa2seed = np.nanmean(lhbold[vwfa==3],axis=0)\n",
    "        vwfa1rval = np.zeros(lhbold.shape[0])\n",
    "        vwfa2rval = np.zeros(lhbold.shape[0])\n",
    "        for v in range(lhbold.shape[0]):\n",
    "            vwfa1rval[v]=np.corrcoef(np.transpose(vwfa1seed), np.transpose(lhbold[v]))[0,1]\n",
    "            vwfa2rval[v]=np.corrcoef(np.transpose(vwfa2seed), np.transpose(lhbold[v]))[0,1]\n",
    "        \n",
    "        vwfa1zmap[:,r] = np.arctanh(vwfa1rval)\n",
    "        vwfa2zmap[:,r] = np.arctanh(vwfa2rval)"
   ]
  },
  {
   "cell_type": "code",
   "execution_count": null,
   "metadata": {},
   "outputs": [],
   "source": [
    "plotting.plot_surf(lhsurf, surf_map=vwfa, bg_map=curv,threshold = 0.0001,view = 'ventral', cmap = 'jet',colorbar=True)"
   ]
  },
  {
   "cell_type": "code",
   "execution_count": null,
   "metadata": {},
   "outputs": [],
   "source": [
    "np.unique(vwfa)"
   ]
  },
  {
   "cell_type": "code",
   "execution_count": 8,
   "metadata": {},
   "outputs": [
    {
     "data": {
      "text/plain": [
       "(227021, 2)"
      ]
     },
     "execution_count": 8,
     "metadata": {},
     "output_type": "execute_result"
    }
   ],
   "source": []
  },
  {
   "cell_type": "code",
   "execution_count": null,
   "metadata": {},
   "outputs": [],
   "source": [
    "lhsurf.coordinates.shape"
   ]
  },
  {
   "cell_type": "code",
   "execution_count": null,
   "metadata": {},
   "outputs": [],
   "source": [
    "vwfa1seed.shape"
   ]
  },
  {
   "cell_type": "code",
   "execution_count": null,
   "metadata": {
    "collapsed": true
   },
   "outputs": [],
   "source": [
    "        vwfa1seed = np.nanmean(lhbold[vwfa==2],axis=0)\n",
    "        vwfa2seed = np.nanmean(lhbold[vwfa==3],axis=0)"
   ]
  },
  {
   "cell_type": "code",
   "execution_count": null,
   "metadata": {},
   "outputs": [],
   "source": [
    "vwfa1con = np.zeros(lhbold.shape[0])\n",
    "vwfa2con = np.zeros(lhbold.shape[0])\n",
    "for v in range(lhbold.shape[0]):\n",
    "    vwfa1rval[v]=np.corrcoef(np.transpose(vwfa1seed), np.transpose(lhbold[v]))[0,1]\n",
    "    vwfa2rval[v]=np.corrcoef(np.transpose(vwfa2seed), np.transpose(lhbold[v]))[0,1]"
   ]
  },
  {
   "cell_type": "code",
   "execution_count": null,
   "metadata": {},
   "outputs": [],
   "source": [
    "plotting.plot_surf_stat_map(lhsurf, stat_map=vwfa1con, bg_map=curv , threshold = 0.1, vmax = .5,view = 'ventral', cmap = 'jet',colorbar=True)"
   ]
  },
  {
   "cell_type": "code",
   "execution_count": null,
   "metadata": {},
   "outputs": [],
   "source": [
    "vwfa1seed.shape"
   ]
  },
  {
   "cell_type": "code",
   "execution_count": null,
   "metadata": {
    "collapsed": true
   },
   "outputs": [],
   "source": []
  }
 ],
 "metadata": {
  "kernelspec": {
   "display_name": "Python 3",
   "language": "python",
   "name": "python3"
  },
  "language_info": {
   "codemirror_mode": {
    "name": "ipython",
    "version": 3
   },
   "file_extension": ".py",
   "mimetype": "text/x-python",
   "name": "python",
   "nbconvert_exporter": "python",
   "pygments_lexer": "ipython3",
   "version": "3.6.1"
  }
 },
 "nbformat": 4,
 "nbformat_minor": 2
}
