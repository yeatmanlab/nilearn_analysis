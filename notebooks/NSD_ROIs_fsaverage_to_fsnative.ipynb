{
 "cells": [
  {
   "cell_type": "code",
   "execution_count": 1,
   "id": "a26e2ddb",
   "metadata": {},
   "outputs": [],
   "source": [
    "# Import nilearn and numpy\n",
    "from nilearn import datasets\n",
    "from nilearn import surface\n",
    "from nilearn import plotting\n",
    "from nilearn import image\n",
    "from nilearn import masking\n",
    "import numpy as np\n",
    "import pandas as pd\n",
    "import glob\n",
    "from nilearn import signal\n",
    "from scipy import stats\n",
    "import nibabel as nib\n",
    "import glob\n",
    "import os\n",
    "sk = 3\n",
    "%matplotlib inline\n",
    "import matplotlib.pyplot as plt"
   ]
  },
  {
   "cell_type": "code",
   "execution_count": 2,
   "id": "87c030b6",
   "metadata": {},
   "outputs": [
    {
     "name": "stdout",
     "output_type": "stream",
     "text": [
      "/oak/stanford/groups/jyeatman/NSD/ppdata/\n",
      "/oak/stanford/groups/jyeatman/NSD/nsddata/freesurfer/\n"
     ]
    }
   ],
   "source": [
    "# List all paths\n",
    "import platform\n",
    "if platform.system() == \"Darwin\":\n",
    "    basepath = '/Users/mayayablonski/Sherlock/groupScratch/'\n",
    "elif platform.system() == \"Linux\":\n",
    "    basepath = '/scratch/groups/jyeatman/'\n",
    "    basepath = '/oak/stanford/groups/jyeatman/'\n",
    "    \n",
    "basedir = basepath + 'NSD/ppdata/'\n",
    "fsdir = basepath + 'NSD/nsddata/freesurfer/'\n",
    "#analysisdir = os.path.dirname(os.path.dirname((basedir))) + '/analysis/clean_18P_scrub025_butter/'\n",
    "#outputdir = analysisdir + 'imgs/'\n",
    "#nsd_path = basepath + '/NSD/'\n",
    "\n",
    "print(basedir)\n",
    "print(fsdir)"
   ]
  },
  {
   "cell_type": "code",
   "execution_count": 3,
   "id": "0675004a",
   "metadata": {},
   "outputs": [
    {
     "data": {
      "text/plain": [
       "['subj01']"
      ]
     },
     "execution_count": 3,
     "metadata": {},
     "output_type": "execute_result"
    }
   ],
   "source": [
    "# I used this to help guide my judgement of confusing cases. I transformed the fsaverage probabilistic ROIs into native\n",
    "# space to see where they land with respect to the activation maps. \n",
    "#mri_label2label [<options>] --srcsubject srcsubject --srclabel srclabelfile --trgsubject trgsubject --trglabel trglabelfile --regmethod surface --hemi hemisphere\n",
    "# List all paths\n",
    "# basedir ='/Users/mayayablonski/Sherlock/groupScratch/NSD/ppdata/'\n",
    "# fsdir = '/Users/mayayablonski/Sherlock/groupScratch/NSD/nsddata/freesurfer/'\n",
    "# analysisdir = os.path.dirname(os.path.dirname((basedir))) + '/analysis/clean_18P_scrub025_butter/'\n",
    "# outputdir = analysisdir + 'imgs/'\n",
    "\n",
    "subs = ['subj01','subj02','subj03','subj04','subj05','subj06','subj07','subj08'];\n",
    "roidir =  '/home/groups/jyeatman/ROI_Atlases/visfAtlas/Rosenke_cytoROIs'\n",
    "roi_names = ['MPM_lh.FG1.label','MPM_lh.FG2.label','MPM_lh.FG3.label','MPM_lh.FG4.label']\n",
    "subs = subs[0:1]\n",
    "subs"
   ]
  },
  {
   "cell_type": "code",
   "execution_count": 4,
   "id": "26dc624e",
   "metadata": {},
   "outputs": [
    {
     "name": "stdout",
     "output_type": "stream",
     "text": [
      "mri_label2label --srcsubject fsaverage --srclabel /home/groups/jyeatman/ROI_Atlases/visfAtlas/Rosenke_cytoROIs/MPM_lh.FG1.label --trgsubject subj01 --trglabel /oak/stanford/groups/jyeatman/NSD/nsddata/freesurfer/subj01/label/MPM_lh.FG1.label --regmethod surface --hemi lh --sd /oak/stanford/groups/jyeatman/NSD/nsddata/freesurfer\n",
      "mri_label2label --srcsubject fsaverage --srclabel /home/groups/jyeatman/ROI_Atlases/visfAtlas/Rosenke_cytoROIs/MPM_lh.FG2.label --trgsubject subj01 --trglabel /oak/stanford/groups/jyeatman/NSD/nsddata/freesurfer/subj01/label/MPM_lh.FG2.label --regmethod surface --hemi lh --sd /oak/stanford/groups/jyeatman/NSD/nsddata/freesurfer\n",
      "mri_label2label --srcsubject fsaverage --srclabel /home/groups/jyeatman/ROI_Atlases/visfAtlas/Rosenke_cytoROIs/MPM_lh.FG3.label --trgsubject subj01 --trglabel /oak/stanford/groups/jyeatman/NSD/nsddata/freesurfer/subj01/label/MPM_lh.FG3.label --regmethod surface --hemi lh --sd /oak/stanford/groups/jyeatman/NSD/nsddata/freesurfer\n",
      "mri_label2label --srcsubject fsaverage --srclabel /home/groups/jyeatman/ROI_Atlases/visfAtlas/Rosenke_cytoROIs/MPM_lh.FG4.label --trgsubject subj01 --trglabel /oak/stanford/groups/jyeatman/NSD/nsddata/freesurfer/subj01/label/MPM_lh.FG4.label --regmethod surface --hemi lh --sd /oak/stanford/groups/jyeatman/NSD/nsddata/freesurfer\n"
     ]
    },
    {
     "name": "stderr",
     "output_type": "stream",
     "text": [
      "sh: mri_label2label: command not found\n",
      "sh: mri_label2label: command not found\n",
      "sh: mri_label2label: command not found\n",
      "sh: mri_label2label: command not found\n"
     ]
    }
   ],
   "source": [
    "# Build and run the label2label command\n",
    "for sub in subs:\n",
    "    fssub=fsdir + sub\n",
    "    for roi in roi_names:\n",
    "        cmd = f'mri_label2label --srcsubject fsaverage --srclabel {roidir}/{roi} --trgsubject {sub} --trglabel {fssub}/label/{roi} --regmethod surface --hemi lh --sd {fsdir[:-1]}'\n",
    "        print(cmd)\n",
    "        os.system(cmd)"
   ]
  },
  {
   "cell_type": "code",
   "execution_count": 5,
   "id": "03b1af44",
   "metadata": {},
   "outputs": [
    {
     "data": {
      "text/plain": [
       "0"
      ]
     },
     "execution_count": 5,
     "metadata": {},
     "output_type": "execute_result"
    }
   ],
   "source": [
    "os.system('ml load biology')"
   ]
  },
  {
   "cell_type": "code",
   "execution_count": 6,
   "id": "ccd4e166",
   "metadata": {},
   "outputs": [
    {
     "name": "stderr",
     "output_type": "stream",
     "text": [
      "Lmod has detected the following error: These module(s) or extension(s) exist\n",
      "but cannot be loaded as requested: \"freesurfer\"\n",
      "   Try: \"module spider freesurfer\" to see how to load the module(s).\n",
      "\n",
      "\n",
      "\n"
     ]
    },
    {
     "data": {
      "text/plain": [
       "256"
      ]
     },
     "execution_count": 6,
     "metadata": {},
     "output_type": "execute_result"
    }
   ],
   "source": [
    "os.system('ml load freesurfer')"
   ]
  },
  {
   "cell_type": "code",
   "execution_count": 7,
   "id": "8d88451e",
   "metadata": {},
   "outputs": [
    {
     "name": "stdout",
     "output_type": "stream",
     "text": [
      "\n",
      "----------------------------------------------------------------------------\n",
      "  freesurfer:\n",
      "----------------------------------------------------------------------------\n",
      "    Description:\n",
      "      An open source software suite for processing and analyzing (human)\n",
      "      brain MRI images.\n",
      "\n",
      "     Versions:\n",
      "        freesurfer/6.0.1 (contribs > poldrack)\n",
      "        freesurfer/7.1.1 (biology)\n",
      "        freesurfer/7.2.0 (biology)\n",
      "        freesurfer/7.3.2 (biology)\n",
      "\n",
      "----------------------------------------------------------------------------\n",
      "  For detailed information about a specific \"freesurfer\" package (including how to load the modules) use the module's full name.\n",
      "  Note that names that have a trailing (E) are extensions provided by other modules.\n",
      "  For example:\n",
      "\n",
      "     $ module spider freesurfer/7.3.2\n",
      "----------------------------------------------------------------------------\n"
     ]
    },
    {
     "data": {
      "text/plain": [
       "0"
      ]
     },
     "execution_count": 7,
     "metadata": {},
     "output_type": "execute_result"
    }
   ],
   "source": [
    "os.system('module spider freesurfer')"
   ]
  },
  {
   "cell_type": "code",
   "execution_count": 8,
   "id": "35eef9b4",
   "metadata": {},
   "outputs": [
    {
     "name": "stdout",
     "output_type": "stream",
     "text": [
      "\n",
      "----------------------------------------------------------------------------\n",
      "  freesurfer: freesurfer/7.3.2\n",
      "----------------------------------------------------------------------------\n",
      "    Description:\n",
      "      An open source software suite for processing and analyzing (human)\n",
      "      brain MRI images.\n",
      "\n",
      "\n",
      "    You will need to load all module(s) on any one of the lines below before the \"freesurfer/7.3.2\" module is available to load.\n",
      "\n",
      "      biology\n",
      " \n"
     ]
    },
    {
     "data": {
      "text/plain": [
       "0"
      ]
     },
     "execution_count": 8,
     "metadata": {},
     "output_type": "execute_result"
    }
   ],
   "source": [
    "os.system('module spider freesurfer/7.3.2')"
   ]
  },
  {
   "cell_type": "code",
   "execution_count": 9,
   "id": "5c1f741c",
   "metadata": {},
   "outputs": [
    {
     "data": {
      "text/plain": [
       "0"
      ]
     },
     "execution_count": 9,
     "metadata": {},
     "output_type": "execute_result"
    }
   ],
   "source": [
    "os.system('ml load biology')"
   ]
  },
  {
   "cell_type": "code",
   "execution_count": 11,
   "id": "b54cbfc8",
   "metadata": {},
   "outputs": [
    {
     "name": "stdout",
     "output_type": "stream",
     "text": [
      "\n",
      "----------------------------------------------------------------------------\n",
      "  freesurfer: freesurfer/7.3.2\n",
      "----------------------------------------------------------------------------\n",
      "    Description:\n",
      "      An open source software suite for processing and analyzing (human)\n",
      "      brain MRI images.\n",
      "\n",
      "\n",
      "    You will need to load all module(s) on any one of the lines below before the \"freesurfer/7.3.2\" module is available to load.\n",
      "\n",
      "      biology\n",
      " \n"
     ]
    },
    {
     "data": {
      "text/plain": [
       "0"
      ]
     },
     "execution_count": 11,
     "metadata": {},
     "output_type": "execute_result"
    }
   ],
   "source": [
    "os.system('module spider freesurfer/7.3.2')"
   ]
  },
  {
   "cell_type": "code",
   "execution_count": null,
   "id": "33e63acf",
   "metadata": {},
   "outputs": [],
   "source": []
  }
 ],
 "metadata": {
  "kernelspec": {
   "display_name": "FC",
   "language": "python",
   "name": "fc"
  },
  "language_info": {
   "codemirror_mode": {
    "name": "ipython",
    "version": 3
   },
   "file_extension": ".py",
   "mimetype": "text/x-python",
   "name": "python",
   "nbconvert_exporter": "python",
   "pygments_lexer": "ipython3",
   "version": "3.9.12"
  }
 },
 "nbformat": 4,
 "nbformat_minor": 5
}
